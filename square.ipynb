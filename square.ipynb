import random
import matplotlib.pyplot as plt
import matplotlib.patches as patches

def random_square(ax, width, height):
    side = random.randrange(min(width, height) // 4)  # Random side length
    x = random.randrange(width - side)
    y = random.randrange(height - side)
    square = patches.Rectangle((x, y), side, side, linewidth=1, edgecolor='r', facecolor='none')
    ax.add_patch(square)

fig, ax = plt.subplots()
ax.set_xlim(0, 400)
ax.set_ylim(0, 400)

for _ in range(100):
    random_square(ax, 400, 400)

plt.gca().set_aspect('equal', adjustable='box')
plt.show()
